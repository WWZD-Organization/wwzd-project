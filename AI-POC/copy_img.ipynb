{
 "cells": [
  {
   "cell_type": "code",
   "execution_count": 1,
   "metadata": {},
   "outputs": [],
   "source": [
    "import os\n",
    "import shutil\n",
    "from PIL import Image\n",
    "\n",
    "def copy_first_images(source_folder, destination_folder):\n",
    "    # Ensure the destination folder exists\n",
    "    os.makedirs(destination_folder, exist_ok=True)\n",
    "    \n",
    "    # Walk through the directory\n",
    "    for subdir, _, files in os.walk(source_folder):\n",
    "        # Filter for image files (you can add more extensions if needed)\n",
    "        image_files = [f for f in files if f.lower().endswith(('.png', '.jpg', '.jpeg', '.gif', '.bmp'))]\n",
    "        \n",
    "        if len(image_files) > 0:\n",
    "            # Get the subdirectory name\n",
    "            subdir_name = os.path.basename(subdir)\n",
    "            # Initialize a counter for copied images\n",
    "            copied_count = 0\n",
    "            \n",
    "            for image_file in image_files:\n",
    "                if copied_count < 3:  # Copy only the first 3 images\n",
    "                    source_path = os.path.join(subdir, image_file)\n",
    "                    if os.path.isfile(source_path):\n",
    "                        # Create the new file name\n",
    "                        new_file_name = f\"{subdir_name}_{copied_count + 1}{os.path.splitext(image_file)[1]}\"\n",
    "                        destination_path = os.path.join(destination_folder, new_file_name)\n",
    "                        shutil.copy2(source_path, destination_path)  # Copy with metadata\n",
    "                        copied_count += 1\n",
    "                else:\n",
    "                    break  # Stop after copying two images\n",
    "\n",
    "# Example usage:\n",
    "source_directory = \"archive/test\"  # Replace with your source directory\n",
    "destination_directory = \"images/test_cpy\"  # Replace with your destination directory\n",
    "\n",
    "copy_first_images(source_directory, destination_directory)\n"
   ]
  }
 ],
 "metadata": {
  "kernelspec": {
   "display_name": "tf",
   "language": "python",
   "name": "python3"
  },
  "language_info": {
   "codemirror_mode": {
    "name": "ipython",
    "version": 3
   },
   "file_extension": ".py",
   "mimetype": "text/x-python",
   "name": "python",
   "nbconvert_exporter": "python",
   "pygments_lexer": "ipython3",
   "version": "3.9.20"
  }
 },
 "nbformat": 4,
 "nbformat_minor": 2
}
