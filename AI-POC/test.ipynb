{
 "cells": [
  {
   "cell_type": "code",
   "execution_count": 1,
   "metadata": {},
   "outputs": [],
   "source": [
    "import tensorflow as tf\n",
    "from tensorflow.keras.applications import EfficientNetB0\n",
    "from tensorflow.keras.preprocessing.image import img_to_array, load_img\n",
    "from tensorflow.keras.applications.efficientnet import preprocess_input, decode_predictions\n",
    "import numpy as np\n",
    "import os"
   ]
  },
  {
   "cell_type": "code",
   "execution_count": null,
   "metadata": {},
   "outputs": [
    {
     "name": "stdout",
     "output_type": "stream",
     "text": [
      "Downloading data from https://storage.googleapis.com/keras-applications/efficientnetb0.h5\n",
      "21834768/21834768 [==============================] - 2s 0us/step\n"
     ]
    }
   ],
   "source": [
    "# Load the EfficientNetB0 model pretrained on ImageNet with top classification layer included\n",
    "model = EfficientNetB0(weights='imagenet')\n",
    "image_size = (224, 224)  # size required by EfficientNetB0\n",
    "\n",
    "# Function to preprocess the input image to match EfficientNet's input requirements\n",
    "def preprocess_image(img_path, target_size=(224, 224)):\n",
    "    # Load image with the target size\n",
    "    img = load_img(img_path, target_size=target_size)\n",
    "    # Convert image to a NumPy array\n",
    "    img_array = img_to_array(img)\n",
    "    # Expand dimensions to match the model's expected input shape (1, 224, 224, 3)\n",
    "    img_array = np.expand_dims(img_array, axis=0)\n",
    "    # Preprocess the image array for EfficientNet\n",
    "    return preprocess_input(img_array)\n",
    "\n",
    "# Function to predict the class of the input image\n",
    "def predict_image(img_path):\n",
    "    # Preprocess the image\n",
    "    processed_image = preprocess_image(img_path)\n",
    "    # Get model predictions\n",
    "    predictions = model.predict(processed_image)\n",
    "    # Decode the top 5 predictions\n",
    "    decoded_predictions = decode_predictions(predictions, top=5)[0]\n",
    "    \n",
    "    print(\"Top predictions:\")\n",
    "    for i, (imagenet_id, label, score) in enumerate(decoded_predictions):\n",
    "        print(f\"{i + 1}: {label} ({score:.2f})\")\n",
    "\n"
   ]
  },
  {
   "cell_type": "code",
   "execution_count": null,
   "metadata": {},
   "outputs": [
    {
     "name": "stdout",
     "output_type": "stream",
     "text": [
      "golden-retriever.jpg\n",
      "1/1 [==============================] - 0s 155ms/step\n",
      "Top predictions:\n",
      "1: German_shepherd (0.84)\n",
      "2: malinois (0.01)\n",
      "3: briard (0.01)\n",
      "4: chow (0.00)\n",
      "5: Australian_terrier (0.00)\n"
     ]
    }
   ],
   "source": [
    "images_folder = \"images/test\"\n",
    "# print(\"bulldog.jpg\")\n",
    "# predict_image(images_folder + \"/bulldog.jpg\")\n",
    "# print(\"border-collie.jpg\")\n",
    "# predict_image(images_folder + \"/border-collie.jpg\")\n",
    "# print(\"golden-retriever.jpg\")\n",
    "# predict_image(images_folder + \"/golden-retriever.jpg\")\n",
    "print(\"german-shepherd\")\n",
    "predict_image(images_folder + \"/german-shepherd.png\")"
   ]
  }
 ],
 "metadata": {
  "kernelspec": {
   "display_name": "tf",
   "language": "python",
   "name": "python3"
  },
  "language_info": {
   "codemirror_mode": {
    "name": "ipython",
    "version": 3
   },
   "file_extension": ".py",
   "mimetype": "text/x-python",
   "name": "python",
   "nbconvert_exporter": "python",
   "pygments_lexer": "ipython3",
   "version": "3.9.20"
  }
 },
 "nbformat": 4,
 "nbformat_minor": 2
}
